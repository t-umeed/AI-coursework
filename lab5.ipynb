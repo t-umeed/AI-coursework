{
  "nbformat": 4,
  "nbformat_minor": 0,
  "metadata": {
    "colab": {
      "provenance": [],
      "authorship_tag": "ABX9TyN3P4Nj+FTOgx16t1FIRmnM",
      "include_colab_link": true
    },
    "kernelspec": {
      "name": "python3",
      "display_name": "Python 3"
    },
    "language_info": {
      "name": "python"
    }
  },
  "cells": [
    {
      "cell_type": "markdown",
      "metadata": {
        "id": "view-in-github",
        "colab_type": "text"
      },
      "source": [
        "<a href=\"https://colab.research.google.com/github/t-umeed/AI-coursework/blob/main/lab5.ipynb\" target=\"_parent\"><img src=\"https://colab.research.google.com/assets/colab-badge.svg\" alt=\"Open In Colab\"/></a>"
      ]
    },
    {
      "cell_type": "code",
      "execution_count": null,
      "metadata": {
        "colab": {
          "base_uri": "https://localhost:8080/"
        },
        "id": "l3xP89OAtVxa",
        "outputId": "74e00b70-bfe7-4503-da66-d1ffd28f04c5"
      },
      "outputs": [
        {
          "output_type": "stream",
          "name": "stdout",
          "text": [
            "People Tahwa may know: {'Sana', 'fiza'}\n"
          ]
        }
      ],
      "source": [
        "from collections import deque\n",
        "\n",
        "def suggest_friends_level_2(graph, user):\n",
        "    visited = set()\n",
        "    queue = deque()\n",
        "    level = {user: 0}\n",
        "    suggestions = set()\n",
        "\n",
        "    # Start BFS\n",
        "    queue.append(user)\n",
        "    visited.add(user)\n",
        "\n",
        "    while queue:\n",
        "        current = queue.popleft()\n",
        "        current_level = level[current]\n",
        "\n",
        "        # Stop exploring if we've reached level 2\n",
        "        if current_level >= 2:\n",
        "            continue\n",
        "\n",
        "        for neighbor in graph.get(current, []):\n",
        "            if neighbor not in visited:\n",
        "                visited.add(neighbor)\n",
        "                level[neighbor] = current_level + 1\n",
        "                queue.append(neighbor)\n",
        "\n",
        "                # Suggest only if it's exactly level 2 and not already a direct friend\n",
        "                if level[neighbor] == 2 and neighbor not in graph[user]:\n",
        "                    suggestions.add(neighbor)\n",
        "\n",
        "    return suggestions\n",
        "\n",
        "# Sample social network graph\n",
        "social_graph = {\n",
        "    'Tahwa': ['Nimra', 'Rafia'],\n",
        "    'Nimra': ['Tahwa', 'Sana'],\n",
        "    'Rafia': ['Tahwa', 'fiza'],\n",
        "    'Sana': ['Nimra', 'saba'],\n",
        "    'fiza': ['Rafia'],\n",
        "    'saba': ['Sana']\n",
        "}\n",
        "\n",
        "# Suggest friends for Alice\n",
        "suggested = suggest_friends_level_2(social_graph, 'Tahwa')\n",
        "print(\"People Tahwa may know:\", suggested)"
      ]
    },
    {
      "cell_type": "code",
      "source": [
        "from google.colab import drive\n",
        "drive.mount('/content/drive')"
      ],
      "metadata": {
        "id": "lUlINXd_J9hW"
      },
      "execution_count": null,
      "outputs": []
    },
    {
      "cell_type": "code",
      "source": [
        "# Depth-First Search (DFS) to find path between cities in Pakistan\n",
        "\n",
        "# Step 1: Create a map of cities using a dictionary\n",
        "pakistan_cities = {\n",
        "    'Karachi': ['Hyderabad', 'Quetta'],\n",
        "    'Hyderabad': ['Karachi', 'Sukkur', 'Multan'],\n",
        "    'Quetta': ['Karachi', 'Sukkur'],\n",
        "    'Sukkur': ['Hyderabad', 'Quetta', 'Multan', 'Islamabad'],\n",
        "    'Multan': ['Hyderabad', 'Sukkur', 'Lahore'],\n",
        "    'Islamabad': ['Sukkur', 'Lahore', 'Peshawar'],\n",
        "    'Lahore': ['Multan', 'Islamabad', 'Faisalabad'],\n",
        "    'Faisalabad': ['Lahore'],\n",
        "    'Peshawar': ['Islamabad']\n",
        "}\n",
        "\n",
        "# Step 2: Define a DFS function to find a path from start to goal\n",
        "def dfs_path(graph, start, goal, path=None, visited=None):\n",
        "    if path is None:\n",
        "        path = []\n",
        "    if visited is None:\n",
        "        visited = set()\n",
        "\n",
        "    path.append(start)\n",
        "    visited.add(start)\n",
        "\n",
        "    if start == goal:\n",
        "        return path\n",
        "\n",
        "    for neighbor in graph[start]:\n",
        "        if neighbor not in visited:\n",
        "            result = dfs_path(graph, neighbor, goal, path.copy(), visited.copy())\n",
        "            if result is not None:\n",
        "                return result\n",
        "\n",
        "    return None  # No path found\n",
        "\n",
        "# Step 3: Choose your starting and ending cities\n",
        "start_city = 'Karachi'\n",
        "goal_city = 'Faisalabad'\n",
        "\n",
        "# Step 4: Call the DFS function to find a path\n",
        "path = dfs_path(pakistan_cities, start_city, goal_city)\n",
        "\n",
        "# Step 5: Show the result\n",
        "if path:\n",
        "    print(\"Path found using DFS:\", \" -> \".join(path))\n",
        "else:\n",
        "    print(\"No path found from\", start_city, \"to\", goal_city)"
      ],
      "metadata": {
        "colab": {
          "base_uri": "https://localhost:8080/"
        },
        "id": "4Rus4JOFAXvx",
        "outputId": "86542a5f-a573-4448-ef7d-c31545c0a52c"
      },
      "execution_count": null,
      "outputs": [
        {
          "output_type": "stream",
          "name": "stdout",
          "text": [
            "Path found using DFS: Karachi -> Hyderabad -> Sukkur -> Multan -> Lahore -> Faisalabad\n"
          ]
        }
      ]
    },
    {
      "cell_type": "code",
      "source": [
        "# DFS Traversal from a given graph\n",
        "\n",
        "# Step 1: Define the graph using a dictionary\n",
        "graph = {\n",
        "    3: [1, 5],\n",
        "    1: [3, 0, 2],\n",
        "    5: [3, 4, 6],\n",
        "    0: [1],\n",
        "    2: [1],\n",
        "    4: [5],\n",
        "    6: [5]\n",
        "}\n",
        "\n",
        "# Step 2: Define a function for DFS traversal\n",
        "def dfs(graph, start, visited=None):\n",
        "    if visited is None:\n",
        "        visited = set()\n",
        "\n",
        "    # Mark the current node as visited\n",
        "    visited.add(start)\n",
        "    print(start, end=' ')  # Process the current node (print it)\n",
        "\n",
        "    # Visit all neighbors that haven't been visited yet\n",
        "    for neighbor in graph[start]:\n",
        "        if neighbor not in visited:\n",
        "            dfs(graph, neighbor, visited)\n",
        "\n",
        "# Step 3: Choose a starting node and run DFS\n",
        "print(\"DFS Traversal starting from node 3:\")\n",
        "dfs(graph, 3)"
      ],
      "metadata": {
        "colab": {
          "base_uri": "https://localhost:8080/"
        },
        "id": "YwWDN0FXEHlR",
        "outputId": "684831db-9faf-46ff-fb9f-0161f2f76843"
      },
      "execution_count": null,
      "outputs": [
        {
          "output_type": "stream",
          "name": "stdout",
          "text": [
            "DFS Traversal starting from node 3:\n",
            "3 1 0 2 5 4 6 "
          ]
        }
      ]
    }
  ]
}